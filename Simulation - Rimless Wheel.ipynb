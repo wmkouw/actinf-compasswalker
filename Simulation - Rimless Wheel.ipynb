{
 "cells": [
  {
   "cell_type": "markdown",
   "id": "193ace0f-bd3e-4737-b536-6f5ad02f8c51",
   "metadata": {},
   "source": [
    "# Rimless Wheel dynamics"
   ]
  },
  {
   "cell_type": "code",
   "execution_count": null,
   "id": "2996d3c2-d733-4f5c-b704-09c9b17a42d0",
   "metadata": {},
   "outputs": [],
   "source": [
    "using Pkg\n",
    "Pkg.activate(\".\")\n",
    "Pkg.instantiate()"
   ]
  },
  {
   "cell_type": "code",
   "execution_count": 1,
   "id": "58647514-63b8-46be-88a7-4f23c16dbfe0",
   "metadata": {},
   "outputs": [
    {
     "name": "stderr",
     "output_type": "stream",
     "text": [
      "┌ Info: Precompiling CairoMakie [13f3f980-e62b-5c42-98c6-ff1f3baf88f0]\n",
      "└ @ Base loading.jl:1664\n"
     ]
    }
   ],
   "source": [
    "using LinearAlgebra\n",
    "using Distributions\n",
    "using CairoMakie"
   ]
  },
  {
   "cell_type": "markdown",
   "id": "b4ea9daf-8e4d-44e1-887c-a66f3fd1d43a",
   "metadata": {},
   "source": [
    "![](figures/rimlessWheel.svg)"
   ]
  },
  {
   "cell_type": "code",
   "execution_count": 76,
   "id": "ffeb1601-06ce-4990-9e63-48ea33b9d6b0",
   "metadata": {},
   "outputs": [
    {
     "data": {
      "text/plain": [
       "9.81"
      ]
     },
     "execution_count": 76,
     "metadata": {},
     "output_type": "execute_result"
    }
   ],
   "source": [
    "m = 1.0\n",
    "ℓ = 1.0\n",
    "γ = 0.5 # 0 < γ < 2π\n",
    "α = π/6\n",
    "const g = 9.81"
   ]
  },
  {
   "cell_type": "markdown",
   "id": "4dff5cb2-c879-4b16-aa69-1b029f1a8004",
   "metadata": {},
   "source": [
    "## Start from stance"
   ]
  },
  {
   "cell_type": "code",
   "execution_count": 77,
   "id": "83de58ce-095c-4b1f-af70-4720d3c5bf17",
   "metadata": {},
   "outputs": [
    {
     "data": {
      "text/plain": [
       "animwheel (generic function with 1 method)"
      ]
     },
     "execution_count": 77,
     "metadata": {},
     "output_type": "execute_result"
    }
   ],
   "source": [
    "function animwheel(θt)\n",
    "\n",
    "    f = Figure(resolution=(800,700))\n",
    "    ax = Axis(f[1, 1])\n",
    "\n",
    "    θk = Observable(0.0)\n",
    "\n",
    "    # Slope\n",
    "    poly!(ax, Point2f[(0, 0), (1, 0), (0, tan(γ))])\n",
    "    CairoMakie.ylims!(ax, [0.,1.])\n",
    "\n",
    "    # Contact point\n",
    "    contact = [0.0, tan(γ)]\n",
    "\n",
    "    xk = @lift([contact[1], contact[1] + ℓ*sin($θk)])\n",
    "    yk = @lift([contact[2], contact[2] + ℓ*cos($θk)])\n",
    "\n",
    "    # Standing spoke\n",
    "    lines!(xk, yk, linewidth=5, color=:black)\n",
    "\n",
    "    # # Wheel\n",
    "    centerx = @lift([contact[1]+ℓ/2*sin($θk)])\n",
    "    centery = @lift([contact[2]+ℓ/2*cos($θk)])\n",
    "    CairoMakie.scatter!(centerx, centery, marker=:circle, markersize=20, color=:black)\n",
    "\n",
    "    # Spokes\n",
    "    for n in 0:5\n",
    "        xk = @lift([contact[1]+ℓ/2*sin($θk), contact[1]+ℓ/2*sin($θk)+ℓ/2*sin($θk+n*π/3)])\n",
    "        yk = @lift([contact[2]+ℓ/2*cos($θk), contact[2]+ℓ/2*cos($θk)+ℓ/2*cos($θk+n*π/3)])\n",
    "        lines!(xk, yk, linewidth=5, color=:black)\n",
    "    end\n",
    "\n",
    "    record(f, \"rimless-wheel.mp4\", θt; framerate = 30) do θ\n",
    "        θk[] = θ\n",
    "    end\n",
    "end"
   ]
  },
  {
   "cell_type": "code",
   "execution_count": 96,
   "id": "b626439e-8923-4317-81fa-d05dc209b002",
   "metadata": {},
   "outputs": [
    {
     "data": {
      "text/plain": [
       "301"
      ]
     },
     "execution_count": 96,
     "metadata": {},
     "output_type": "execute_result"
    }
   ],
   "source": [
    "Δt = 0.01\n",
    "time = range(0, stop=3.0, step=Δt)\n",
    "T = length(time)"
   ]
  },
  {
   "cell_type": "code",
   "execution_count": 97,
   "id": "a2b66241-3847-4b5d-85eb-4011fcdfa177",
   "metadata": {},
   "outputs": [
    {
     "data": {
      "text/plain": [
       "eom (generic function with 1 method)"
      ]
     },
     "execution_count": 97,
     "metadata": {},
     "output_type": "execute_result"
    }
   ],
   "source": [
    "function eom(z,t)\n",
    "    return [z[1] + Δt*z[2]; z[2] + Δt*(g/ℓ*sin(z[1]))]\n",
    "end"
   ]
  },
  {
   "cell_type": "code",
   "execution_count": 98,
   "id": "7f2393c9-c810-4d38-8822-5c77f762c366",
   "metadata": {},
   "outputs": [
    {
     "data": {
      "text/plain": [
       "\"rimless-wheel.mp4\""
      ]
     },
     "execution_count": 98,
     "metadata": {},
     "output_type": "execute_result"
    }
   ],
   "source": [
    "# Initial condition\n",
    "z_0 = [0.0, 1.0]\n",
    "\n",
    "z_ = zeros(2,T)\n",
    "z_kmin1 = z_0\n",
    "for (n,t) in enumerate(time)\n",
    "    z_[:,n] = eom(z_kmin1, t)\n",
    "    z_kmin1 = z_[:,n]\n",
    "end\n",
    "\n",
    "animwheel(z_[1,:])"
   ]
  },
  {
   "cell_type": "code",
   "execution_count": null,
   "id": "6e1430b6-207e-45e9-a794-40bbdf8c1772",
   "metadata": {},
   "outputs": [],
   "source": []
  }
 ],
 "metadata": {
  "kernelspec": {
   "display_name": "julia 1.8.3",
   "language": "julia",
   "name": "julia-1.8"
  },
  "language_info": {
   "file_extension": ".jl",
   "mimetype": "application/julia",
   "name": "julia",
   "version": "1.8.3"
  }
 },
 "nbformat": 4,
 "nbformat_minor": 5
}
